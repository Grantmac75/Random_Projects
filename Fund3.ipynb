{
 "cells": [
  {
   "cell_type": "markdown",
   "metadata": {},
   "source": [
    "# Count Votes & select winner\n",
    "* Count votes from a list of people\n",
    "* Make it generalizable so that if any people tie in votes the member with the lowest priority in the alphabet wins. Example: If both John & Paul tie for the highest votes, then Paul wins because his name is alphabetically last."
   ]
  },
  {
   "cell_type": "code",
   "execution_count": 1,
   "metadata": {},
   "outputs": [
    {
     "data": {
      "text/plain": [
       "'Michael'"
      ]
     },
     "execution_count": 1,
     "metadata": {},
     "output_type": "execute_result"
    }
   ],
   "source": [
    "from collections import Counter\n",
    "\n",
    "# Example List\n",
    "votes = ['Alex', 'Michael', 'Harry', 'Dave', 'Michael', 'Victor', 'Harry', 'Alex', 'Mary', 'Mary']\n",
    "\n",
    "def electionWinner(votes):\n",
    "    \n",
    "    count_dict = Counter(votes)\n",
    "    \n",
    "    for key,value in count_dict.items():\n",
    "        x = sorted(count_dict.values(), reverse=True)[0]\n",
    "    \n",
    "    alpha = []\n",
    "        \n",
    "    for key,value in count_dict.items():\n",
    "        if value == x:\n",
    "            alpha.append(key)\n",
    "            \n",
    "    return sorted(alpha)[-1]\n",
    "\n",
    "electionWinner(votes)"
   ]
  },
  {
   "cell_type": "markdown",
   "metadata": {},
   "source": [
    "# Distinct Pairs\n",
    "* Find all pairs of integers that add to the given value, k.\n",
    "* Generalize it so that no combination is counted twice. Example: The combination (1,46) and (46,1) are the same and should only be counted once."
   ]
  },
  {
   "cell_type": "code",
   "execution_count": 2,
   "metadata": {},
   "outputs": [
    {
     "name": "stdout",
     "output_type": "stream",
     "text": [
      "{(1, 3), (9, 46), (3, 3), (1, 46), (3, 9), (1, 38), (1, 9), (3, 38), (9, 38), (1, 1), (3, 46), (38, 46)}\n"
     ]
    },
    {
     "data": {
      "text/plain": [
       "2"
      ]
     },
     "execution_count": 2,
     "metadata": {},
     "output_type": "execute_result"
    }
   ],
   "source": [
    "import itertools\n",
    "\n",
    "# Example List\n",
    "a = [1, 3, 46, 1, 3, 9, 38]\n",
    "k = 47\n",
    "\n",
    "\n",
    "def numberOfPairs(a,k):\n",
    "    \n",
    "    pairs = list(itertools.combinations(a,2))\n",
    "    \n",
    "    distinct = set((a,b) if a<=b else (b,a) for a,b in pairs)\n",
    "    print(distinct)\n",
    "    \n",
    "    count = 0\n",
    "    \n",
    "    for tup in distinct:\n",
    "        add = tup[0]+tup[1]\n",
    "        if add == k:\n",
    "            count+=1\n",
    "        \n",
    "    return count\n",
    "\n",
    "numberOfPairs(a,k)"
   ]
  },
  {
   "cell_type": "markdown",
   "metadata": {},
   "source": [
    "# Get Movie Titles\n",
    "* Get movie titles from https://jsonmock.hackerrank.com/api/movies/search/?Title={}&page={} using a GET request & pulling into a JSON file.\n",
    "* Return any movie that has the title 'Spiderman' in it."
   ]
  },
  {
   "cell_type": "code",
   "execution_count": 3,
   "metadata": {},
   "outputs": [
    {
     "name": "stdout",
     "output_type": "stream",
     "text": [
      "Italian Spiderman\n",
      "Superman, Spiderman or Batman\n",
      "Spiderman\n",
      "Spiderman\n",
      "Fighting, Flying and Driving: The Stunts of Spiderman 3\n",
      "Spiderman and Grandma\n",
      "The Amazing Spiderman T4 Premiere Special\n",
      "Amazing Spiderman Syndrome\n",
      "Hollywood's Master Storytellers: Spiderman Live\n",
      "Spiderman 5\n",
      "END PAGE 1\n",
      "They Call Me Spiderman\n",
      "The Death of Spiderman\n",
      "Spiderman in Cannes\n",
      "END PAGE 2\n"
     ]
    }
   ],
   "source": [
    "import urllib.request\n",
    "import requests\n",
    "\n",
    "def  getMovieTitles(substr,pageNumber):\n",
    "    \n",
    "    r = requests.get(\"https://jsonmock.hackerrank.com/api/movies/search/?Title={}&page={}\".format(substr,pageNumber))\n",
    "    json_dict = r.json()\n",
    "    data = json_dict['data']\n",
    "    \n",
    "    titles = []\n",
    "    \n",
    "    for i in data:\n",
    "        print(i['Title'])\n",
    "        \n",
    "    return 'END PAGE {}'.format(pageNumber)\n",
    "\n",
    "print(getMovieTitles('Spiderman',1))\n",
    "print(getMovieTitles('Spiderman',2))"
   ]
  }
 ],
 "metadata": {
  "kernelspec": {
   "display_name": "Python 3",
   "language": "python",
   "name": "python3"
  },
  "language_info": {
   "codemirror_mode": {
    "name": "ipython",
    "version": 3
   },
   "file_extension": ".py",
   "mimetype": "text/x-python",
   "name": "python",
   "nbconvert_exporter": "python",
   "pygments_lexer": "ipython3",
   "version": "3.6.4"
  }
 },
 "nbformat": 4,
 "nbformat_minor": 2
}
