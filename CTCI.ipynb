{
 "cells": [
  {
   "cell_type": "markdown",
   "metadata": {},
   "source": [
    "# Cracking The Coding Interview\n",
    "* Note some of these questions are not directly from CTCI, but they were researched while reading the book so I put them within"
   ]
  },
  {
   "cell_type": "markdown",
   "metadata": {},
   "source": [
    "## 1) Check the number of 1's within a binary representation of a positive integer"
   ]
  },
  {
   "cell_type": "code",
   "execution_count": 4,
   "metadata": {},
   "outputs": [
    {
     "name": "stdout",
     "output_type": "stream",
     "text": [
      "2\n",
      "We can check for accuracy by printing the binary of n: 0b10100\n"
     ]
    }
   ],
   "source": [
    "def countbitset_recursion(n):\n",
    "    \n",
    "    if n == 0:\n",
    "        return 0\n",
    "    else:\n",
    "        return (n&1) + countbitset(n>>1)\n",
    "\n",
    "n = 20\n",
    "print(countbitset_recursion(n))\n",
    "\n",
    "print('We can check for accuracy by printing the binary of n: {}'.format(bin(n)))"
   ]
  },
  {
   "cell_type": "markdown",
   "metadata": {},
   "source": [
    "### Alternative function for above"
   ]
  },
  {
   "cell_type": "code",
   "execution_count": 5,
   "metadata": {},
   "outputs": [
    {
     "name": "stdout",
     "output_type": "stream",
     "text": [
      "2\n"
     ]
    }
   ],
   "source": [
    "def countbitset_while(n):\n",
    "    \n",
    "    count = 0\n",
    "    while(n):\n",
    "        count += n&1\n",
    "        n >>= 1\n",
    "    return count\n",
    "\n",
    "n = 20\n",
    "print(countbitset_while(n))"
   ]
  },
  {
   "cell_type": "markdown",
   "metadata": {},
   "source": [
    "## 2) Check for Primality (see if a number is prime)"
   ]
  },
  {
   "cell_type": "code",
   "execution_count": 51,
   "metadata": {},
   "outputs": [
    {
     "name": "stdout",
     "output_type": "stream",
     "text": [
      "Number 2 is prime: True\n",
      "Number 3 is prime: True\n",
      "Number 4 is prime: False\n",
      "Number 5 is prime: True\n",
      "Number 6 is prime: False\n",
      "Number 7 is prime: True\n",
      "Number 8 is prime: False\n",
      "Number 9 is prime: False\n"
     ]
    }
   ],
   "source": [
    "def is_prime(n):\n",
    "\n",
    "    for i in range(2, n):\n",
    "        if (n % i == 0):\n",
    "            return False\n",
    "        \n",
    "    return True\n",
    "\n",
    "for k in range(2, 10):\n",
    "    print('Number {} is prime: {}'.format(k, is_prime(k)))"
   ]
  },
  {
   "cell_type": "markdown",
   "metadata": {},
   "source": [
    "### Alternative function for above (it's faster)"
   ]
  },
  {
   "cell_type": "code",
   "execution_count": 55,
   "metadata": {},
   "outputs": [
    {
     "name": "stdout",
     "output_type": "stream",
     "text": [
      "Number 2 is prime: True\n",
      "Number 3 is prime: True\n",
      "Number 4 is prime: False\n",
      "Number 5 is prime: True\n",
      "Number 6 is prime: False\n",
      "Number 7 is prime: True\n",
      "Number 8 is prime: False\n",
      "Number 9 is prime: False\n"
     ]
    }
   ],
   "source": [
    "def is_prime_quick(n):\n",
    "    for i in range(2, int(n**0.5)+1):\n",
    "        if (n % i == 0):\n",
    "            return False\n",
    "    return True\n",
    "\n",
    "for k in range(2, 10):\n",
    "    print('Number {} is prime: {}'.format(k, is_prime_quick(k)))"
   ]
  },
  {
   "cell_type": "code",
   "execution_count": 66,
   "metadata": {},
   "outputs": [
    {
     "name": "stdout",
     "output_type": "stream",
     "text": [
      "10000000 loops, best of 3: 56.1 ns per loop\n"
     ]
    }
   ],
   "source": [
    "%%timeit\n",
    "def is_prime(n):\n",
    "\n",
    "    for i in range(2, n):\n",
    "        if (n % i == 0):\n",
    "            return False\n",
    "        \n",
    "    return True"
   ]
  },
  {
   "cell_type": "code",
   "execution_count": 64,
   "metadata": {},
   "outputs": [
    {
     "name": "stdout",
     "output_type": "stream",
     "text": [
      "10000000 loops, best of 3: 53.5 ns per loop\n"
     ]
    }
   ],
   "source": [
    "%%timeit\n",
    "def is_prime_quick(n):\n",
    "    for i in range(2, int(sqrt(n))+1):\n",
    "        if (n % i == 0):\n",
    "            return False\n",
    "    return True"
   ]
  },
  {
   "cell_type": "markdown",
   "metadata": {},
   "source": [
    "### Conclusion for 2. is_prime function does 10,000,000 w/ best of 3 at 56.1ns, while is_prime_quick does it in 53.5ns. However, there are times where the %%timeit gives a faster result for is_prime. Closer than I thought."
   ]
  }
 ],
 "metadata": {
  "kernelspec": {
   "display_name": "Python 3",
   "language": "python",
   "name": "python3"
  },
  "language_info": {
   "codemirror_mode": {
    "name": "ipython",
    "version": 3
   },
   "file_extension": ".py",
   "mimetype": "text/x-python",
   "name": "python",
   "nbconvert_exporter": "python",
   "pygments_lexer": "ipython3",
   "version": "3.6.4"
  }
 },
 "nbformat": 4,
 "nbformat_minor": 2
}
