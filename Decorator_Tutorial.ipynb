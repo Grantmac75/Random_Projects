{
 "cells": [
  {
   "cell_type": "markdown",
   "metadata": {},
   "source": [
    "# Decorator Tutorial\n",
    "Explain in simple terms how decorators can be used for concise code.\n",
    "The @ symbol is called \"pie syntax\""
   ]
  },
  {
   "cell_type": "markdown",
   "metadata": {},
   "source": [
    "### Just a basic nested function & call"
   ]
  },
  {
   "cell_type": "code",
   "execution_count": 14,
   "metadata": {},
   "outputs": [
    {
     "name": "stdout",
     "output_type": "stream",
     "text": [
      "Step 1\n",
      "Yes\n",
      "Step 2\n"
     ]
    }
   ],
   "source": [
    "def my_decorator(some_function):\n",
    "    \n",
    "    def f():\n",
    "\n",
    "        print('Step 1')\n",
    "\n",
    "        some_function()\n",
    "\n",
    "        print('Step 2')\n",
    "\n",
    "    return f()\n",
    "\n",
    "\n",
    "def just_some_function():\n",
    "    print('Yes')\n",
    "\n",
    "first_call = my_decorator(just_some_function)\n",
    "first_call"
   ]
  },
  {
   "cell_type": "markdown",
   "metadata": {},
   "source": [
    "### Same functions as above but with decorator.\n",
    "1. As you can see the decorator basically substitutes needing \"first_call = my_decorator(just_some_function)\"\n",
    "2. It acts to wrap the next function it encounters and incorporating it into its own needs within it's function."
   ]
  },
  {
   "cell_type": "code",
   "execution_count": 15,
   "metadata": {},
   "outputs": [
    {
     "name": "stdout",
     "output_type": "stream",
     "text": [
      "Step 1\n",
      "Yes\n",
      "Step 2\n"
     ]
    }
   ],
   "source": [
    "@my_decorator\n",
    "def just_some_function():\n",
    "    print('Yes')"
   ]
  },
  {
   "cell_type": "code",
   "execution_count": 16,
   "metadata": {},
   "outputs": [
    {
     "name": "stdout",
     "output_type": "stream",
     "text": [
      "Step 1\n",
      "No\n",
      "Step 2\n"
     ]
    }
   ],
   "source": [
    "@my_decorator\n",
    "def different_function():\n",
    "    print('No')"
   ]
  },
  {
   "cell_type": "markdown",
   "metadata": {},
   "source": [
    "### Better Example"
   ]
  },
  {
   "cell_type": "code",
   "execution_count": 69,
   "metadata": {},
   "outputs": [],
   "source": [
    "def calculate(some_function):\n",
    "    \n",
    "    def square():\n",
    "        \n",
    "        print('Step 1')\n",
    "        \n",
    "        print(some_function()**2)\n",
    "        \n",
    "        print('Step 2')\n",
    "        \n",
    "    return square()"
   ]
  },
  {
   "cell_type": "code",
   "execution_count": 73,
   "metadata": {},
   "outputs": [
    {
     "name": "stdout",
     "output_type": "stream",
     "text": [
      "Step 1\n",
      "36\n",
      "Step 2\n"
     ]
    }
   ],
   "source": [
    "@calculate\n",
    "def input_for_calc(y=3):\n",
    "    x = y * 2\n",
    "    return x"
   ]
  }
 ],
 "metadata": {
  "kernelspec": {
   "display_name": "Python 3",
   "language": "python",
   "name": "python3"
  },
  "language_info": {
   "codemirror_mode": {
    "name": "ipython",
    "version": 3
   },
   "file_extension": ".py",
   "mimetype": "text/x-python",
   "name": "python",
   "nbconvert_exporter": "python",
   "pygments_lexer": "ipython3",
   "version": "3.6.4"
  }
 },
 "nbformat": 4,
 "nbformat_minor": 2
}
