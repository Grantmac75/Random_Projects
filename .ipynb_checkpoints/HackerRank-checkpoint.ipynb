{
 "cells": [
  {
   "cell_type": "markdown",
   "metadata": {},
   "source": [
    "# HackerRank"
   ]
  },
  {
   "cell_type": "markdown",
   "metadata": {},
   "source": [
    "### Compare the Triplets\n",
    "Compare elements and return totals."
   ]
  },
  {
   "cell_type": "code",
   "execution_count": 33,
   "metadata": {},
   "outputs": [
    {
     "data": {
      "text/plain": [
       "(0, 3)"
      ]
     },
     "execution_count": 33,
     "metadata": {},
     "output_type": "execute_result"
    }
   ],
   "source": [
    "a0 = 6\n",
    "a1 = 8\n",
    "a2 = 12\n",
    "\n",
    "b0 = 7\n",
    "b1 = 9\n",
    "b2 = 15\n",
    "\n",
    "def solve(a0,a1,a2,b0,b1,b2):\n",
    "    \n",
    "    Alice = 0\n",
    "    Bob = 0\n",
    "    \n",
    "    if (a0 == b0) | (a1 == b1) | (a2 == b2):\n",
    "        Alice += 0\n",
    "        Bob += 0\n",
    "    \n",
    "    if a0 > b0:\n",
    "        Alice += 1\n",
    "    if a0 < b0:\n",
    "        Bob += 1\n",
    "    if a1 > b1:\n",
    "        Alice += 1\n",
    "    if a1 < b1:\n",
    "        Bob += 1\n",
    "    if a2 > b2:\n",
    "        Alice += 1\n",
    "    if a2 < b2:\n",
    "        Bob += 1\n",
    "\n",
    "    return Alice, Bob\n",
    "\n",
    "solve(a0,a1,a2,b0,b1,b2)\n"
   ]
  },
  {
   "cell_type": "markdown",
   "metadata": {},
   "source": [
    "### A Very Big Sum\n",
    "Sum elements of an array."
   ]
  },
  {
   "cell_type": "code",
   "execution_count": 36,
   "metadata": {},
   "outputs": [
    {
     "data": {
      "text/plain": [
       "5000000015"
      ]
     },
     "execution_count": 36,
     "metadata": {},
     "output_type": "execute_result"
    }
   ],
   "source": [
    "array = [1000000001, 1000000002, 1000000003, 1000000004, 1000000005]\n",
    "\n",
    "def aVeryBigSum(n, ar):\n",
    "    \n",
    "    total = sum(ar)\n",
    "    \n",
    "    return total\n",
    "\n",
    "aVeryBigSum(1,array)"
   ]
  },
  {
   "cell_type": "markdown",
   "metadata": {},
   "source": [
    "### Diagonal Difference\n",
    "Sum Both Diagonals of a matrix, and get the absolute value of their difference."
   ]
  },
  {
   "cell_type": "code",
   "execution_count": 48,
   "metadata": {},
   "outputs": [
    {
     "data": {
      "text/plain": [
       "array([[ 11,   2,   4],\n",
       "       [  4,   5,   6],\n",
       "       [ 10,   8, -12]])"
      ]
     },
     "execution_count": 48,
     "metadata": {},
     "output_type": "execute_result"
    }
   ],
   "source": [
    "import numpy as np\n",
    "input_matrix = np.array([[11,2,4],[4,5,6],[10,8,-12]])\n",
    "input_matrix"
   ]
  },
  {
   "cell_type": "code",
   "execution_count": 59,
   "metadata": {},
   "outputs": [
    {
     "data": {
      "text/plain": [
       "15"
      ]
     },
     "execution_count": 59,
     "metadata": {},
     "output_type": "execute_result"
    }
   ],
   "source": [
    "# n was given during the submission, it was not needed to be defined within your personal function\n",
    "\n",
    "def diagonalDifference(a):\n",
    "    \n",
    "    n = 3  #This code not needed for submission.\n",
    "    \n",
    "    diagonal1 = sum(a[i][i] for i in range(n))\n",
    "    diagonal2 = sum(a[i][n-i-1] for i in range(n))\n",
    "    \n",
    "    return abs(diagonal1-diagonal2)\n",
    "\n",
    "diagonalDifference(input_matrix)"
   ]
  },
  {
   "cell_type": "code",
   "execution_count": null,
   "metadata": {
    "collapsed": true
   },
   "outputs": [],
   "source": []
  },
  {
   "cell_type": "code",
   "execution_count": null,
   "metadata": {
    "collapsed": true
   },
   "outputs": [],
   "source": []
  }
 ],
 "metadata": {
  "kernelspec": {
   "display_name": "Python 3",
   "language": "python",
   "name": "python3"
  },
  "language_info": {
   "codemirror_mode": {
    "name": "ipython",
    "version": 3
   },
   "file_extension": ".py",
   "mimetype": "text/x-python",
   "name": "python",
   "nbconvert_exporter": "python",
   "pygments_lexer": "ipython3",
   "version": "3.6.4"
  }
 },
 "nbformat": 4,
 "nbformat_minor": 2
}
