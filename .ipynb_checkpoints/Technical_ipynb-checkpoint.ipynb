{
 "cells": [
  {
   "cell_type": "markdown",
   "metadata": {},
   "source": [
    "# Searching and Sorting\n",
    "MITx 6.00.1x Edx.org class\n",
    "\n",
    "1. Linear Search\n",
    "2. Bisection Search"
   ]
  },
  {
   "cell_type": "code",
   "execution_count": null,
   "metadata": {
    "collapsed": true
   },
   "outputs": [],
   "source": [
    "# Example List\n",
    "my_list = ['John Smith', 'Jack Smith', 'First Smith', 'Last Smith']"
   ]
  },
  {
   "cell_type": "markdown",
   "metadata": {},
   "source": [
    "###  Linear Search, Unsorted List"
   ]
  },
  {
   "cell_type": "code",
   "execution_count": 2,
   "metadata": {},
   "outputs": [
    {
     "data": {
      "text/plain": [
       "True"
      ]
     },
     "execution_count": 2,
     "metadata": {},
     "output_type": "execute_result"
    }
   ],
   "source": [
    "# Linear Search, unsorted list.\n",
    "\n",
    "def linear_search(the_list, element):\n",
    "    found = False\n",
    "    for i in range(len(the_list)):\n",
    "        if element == the_list[i]:\n",
    "            found = True\n",
    "    return found\n",
    "\n",
    "linear_search(my_list, 'Jack Smith')\n",
    "\n",
    "\n",
    "# Linear Search, unsorted, version 2.\n",
    "\n",
    "def linear_sorted(the_list, element):\n",
    "    found = False\n",
    "    for i in the_list:\n",
    "        if i == element:\n",
    "            found = True\n",
    "    return found\n",
    "\n",
    "linear_sorted(my_list, 'Jack Smith')\n",
    "\n",
    "# Worst Case Complexity is O(n)."
   ]
  },
  {
   "cell_type": "markdown",
   "metadata": {},
   "source": [
    "###  Linear Search, Sorted List"
   ]
  },
  {
   "cell_type": "code",
   "execution_count": 7,
   "metadata": {},
   "outputs": [
    {
     "name": "stdout",
     "output_type": "stream",
     "text": [
      "['First Smith', 'Jack Smith', 'John Smith', 'Last Smith']\n"
     ]
    },
    {
     "data": {
      "text/plain": [
       "True"
      ]
     },
     "execution_count": 7,
     "metadata": {},
     "output_type": "execute_result"
    }
   ],
   "source": [
    "# Linear Search, sorted list.\n",
    "\n",
    "def linear_sorted(the_list, element):\n",
    "    \n",
    "    the_list = sorted(the_list)\n",
    "    print(the_list)\n",
    "    \n",
    "    for i in range(len(the_list)):\n",
    "        if the_list[i] == element:\n",
    "            return True\n",
    "        elif the_list[i] > element:\n",
    "            return False\n",
    "        \n",
    "    return False\n",
    "\n",
    "linear_sorted(my_list, 'Jack Smith')\n",
    "\n",
    "# Worst Case Complexity is still O(n), but running time wise this is faster because you are\n",
    "# taking advantage of the fact that you have a sorted list."
   ]
  },
  {
   "cell_type": "markdown",
   "metadata": {},
   "source": [
    "### Bisection Search, recursion.\n",
    "Remember for bisection search to be effective the list needs to be sorted first."
   ]
  },
  {
   "cell_type": "code",
   "execution_count": 13,
   "metadata": {},
   "outputs": [
    {
     "name": "stdout",
     "output_type": "stream",
     "text": [
      "9\n",
      "4\n",
      "2\n",
      "1\n"
     ]
    },
    {
     "data": {
      "text/plain": [
       "True"
      ]
     },
     "execution_count": 13,
     "metadata": {},
     "output_type": "execute_result"
    }
   ],
   "source": [
    "# Bisection Search, recursion with list copy.\n",
    "\n",
    "def bisect_search(L, e):\n",
    "    \n",
    "    L = sorted(L)\n",
    "    \n",
    "    if L == []:\n",
    "        return False\n",
    "    elif len(L) == 1:\n",
    "        return L[0] == e\n",
    "    else:\n",
    "        half = len(L)//2\n",
    "        print(half)\n",
    "        \n",
    "        if L[half] > e:\n",
    "            return bisect_search(L[:half], e)\n",
    "        else:\n",
    "            return bisect_search(L[half:], e)\n",
    "        \n",
    "some_list = [1,2,5,5,4,3,6,7,8,9,10,20,90,931,32,87,86,85]\n",
    "\n",
    "bisect_search(some_list, 3)\n",
    "\n",
    "# Complexity is nlog(n) because you are copying the list every time for every recursion necessary.\n",
    "# You can see the recursion for halving the bisection search with the print out of half in each recursive call."
   ]
  },
  {
   "cell_type": "markdown",
   "metadata": {},
   "source": [
    "### Bisection Search, Recursion Pointer.\n",
    "This methodology is better because rather than making a copy of the list like the recursion above, it causes the program to essentially \"point\" to the indexes which represent half, rather than any copying."
   ]
  },
  {
   "cell_type": "code",
   "execution_count": 24,
   "metadata": {},
   "outputs": [
    {
     "name": "stdout",
     "output_type": "stream",
     "text": [
      "8\n",
      "3\n",
      "1\n"
     ]
    },
    {
     "data": {
      "text/plain": [
       "True"
      ]
     },
     "execution_count": 24,
     "metadata": {},
     "output_type": "execute_result"
    }
   ],
   "source": [
    "# Bisection Search, Recursion pointer to halfway, no list copying.\n",
    "\n",
    "def bisect_search_fast(L, e):\n",
    "    \n",
    "    def bisect_helper(L, e, low, high):   # 3) Program loops through this as long as is needed with recursive calls\n",
    "        \n",
    "        if low == high:\n",
    "            return L[low] == e\n",
    "        \n",
    "        mid = (high + low)//2\n",
    "        print(mid)\n",
    "        \n",
    "        if L[mid] == e:\n",
    "            return True\n",
    "        \n",
    "        elif L[mid] > e:\n",
    "            if mid == low:\n",
    "                return False\n",
    "            \n",
    "            else:\n",
    "                return bisect_helper(L, e, low, mid-1)\n",
    "            \n",
    "        else:\n",
    "            return bisect_helper(L, e, mid+1, high)\n",
    "    \n",
    "    if len(L) == 0:   # 1) Program really starts here to check for initial case\n",
    "        return False\n",
    "    \n",
    "    else:             # 2) Normal length list goes here and starts the bisect_helper recursion function\n",
    "        return bisect_helper(L, e, 0, len(L)-1)\n",
    "\n",
    "# Test List\n",
    "some_list = [1,2,5,5,4,3,6,7,8,9,10,20,90,931,32,87,86,85]\n",
    "\n",
    "# Function Call\n",
    "bisect_search_fast(sorted(some_list), 3)\n",
    "\n",
    "# Complexity is only log(n) in this case because it doesn't require us to make a copied list each time.\n",
    "# The printed out midpoint makes less intuitive sense because it's just the program pointing to the indexes of the\n",
    "# original list, no slicing down to a copied smaller list like above."
   ]
  },
  {
   "cell_type": "markdown",
   "metadata": {},
   "source": [
    "### Important Notes for Algorithms above:\n",
    "1) In the Bisection Search algos I personally sorted the lists before running the recursive steps. Now that sorting actually has it's own cost, which is not efficient if I only plan to look for a single element one time.\n",
    "2) If I plan to search for multiple elements over multiple occurances then the initial sorting becomes less important witht the complexity because now the pro's of being O(log(n)) with a sorted list outweight being a strict linear search of O(n).\n",
    "3) Long story short. Since you'll almost always want to search multiple times over a list, the initial sort is worth having in order to implement an efficient bisection search rather than pure linear search."
   ]
  },
  {
   "cell_type": "markdown",
   "metadata": {},
   "source": [
    "### Searching with List Comprehensions and np.where\n",
    "I wanted to design basic list comprehensions for searching"
   ]
  },
  {
   "cell_type": "code",
   "execution_count": 17,
   "metadata": {},
   "outputs": [
    {
     "name": "stdout",
     "output_type": "stream",
     "text": [
      "Number of True Integer Occurences: 2\n",
      "Number of True String Occurences: 1\n",
      "Number of True Integer Occurences: 2\n",
      "Number of True String Occurences: 1\n"
     ]
    }
   ],
   "source": [
    "import numpy as np\n",
    "\n",
    "# Example Integer List\n",
    "some_list = [1,2,5,5,4,3,6,7,8,9,10,20,90,931,32,87,86,85]\n",
    "some_list_array = np.array(some_list)\n",
    "# Example String List\n",
    "my_list = ['John Smith', 'Jack Smith', 'First Smith', 'Last Smith']\n",
    "\n",
    "\n",
    "# Returns Integer for number of times element was found in a list\n",
    "value_integer = len([True for i in some_list if i == 5])\n",
    "value_string = len([True for i in my_list if i == 'Jack Smith'])\n",
    "\n",
    "print('Number of True Integer Occurences: {}'.format(value_integer))\n",
    "print('Number of True String Occurences: {}'.format(value_string))\n",
    "\n",
    "# Same as above using np.where (must make list into array first)\n",
    "value1_integer = sum(np.where(np.array(some_list) == 5, 1, 0))\n",
    "value1_string = sum(np.where(np.array(my_list) == 'Jack Smith', 1, 0))\n",
    "\n",
    "print('Number of True Integer Occurences: {}'.format(value1_integer))\n",
    "print('Number of True String Occurences: {}'.format(value1_string))"
   ]
  },
  {
   "cell_type": "code",
   "execution_count": 26,
   "metadata": {},
   "outputs": [
    {
     "name": "stdout",
     "output_type": "stream",
     "text": [
      "The slowest run took 5.11 times longer than the fastest. This could mean that an intermediate result is being cached.\n",
      "1000000 loops, best of 3: 708 ns per loop\n"
     ]
    }
   ],
   "source": [
    "%%timeit\n",
    "len([True for i in some_list if i == 5])"
   ]
  },
  {
   "cell_type": "code",
   "execution_count": 27,
   "metadata": {},
   "outputs": [
    {
     "name": "stdout",
     "output_type": "stream",
     "text": [
      "The slowest run took 10.63 times longer than the fastest. This could mean that an intermediate result is being cached.\n",
      "100000 loops, best of 3: 3.78 µs per loop\n"
     ]
    }
   ],
   "source": [
    "%%timeit\n",
    "sum(np.where(some_list_array == 5, 1, 0))"
   ]
  },
  {
   "cell_type": "code",
   "execution_count": 25,
   "metadata": {},
   "outputs": [
    {
     "name": "stdout",
     "output_type": "stream",
     "text": [
      "100000 loops, best of 3: 2.1 µs per loop\n"
     ]
    }
   ],
   "source": [
    "%%timeit\n",
    "def bisect_search_fast(L, e):\n",
    "    \n",
    "    def bisect_helper(L, e, low, high):   # 3) Program loops through this as long as is needed with recursive calls\n",
    "        \n",
    "        if low == high:\n",
    "            return L[low] == e\n",
    "        \n",
    "        mid = (high + low)//2\n",
    "        #print(mid)\n",
    "        \n",
    "        if L[mid] == e:\n",
    "            return True\n",
    "        \n",
    "        elif L[mid] > e:\n",
    "            if mid == low:\n",
    "                return False\n",
    "            \n",
    "            else:\n",
    "                return bisect_helper(L, e, low, mid-1)\n",
    "            \n",
    "        else:\n",
    "            return bisect_helper(L, e, mid+1, high)\n",
    "    \n",
    "    if len(L) == 0:   # 1) Program really starts here to check for initial case\n",
    "        return False\n",
    "    \n",
    "    else:             # 2) Normal length list goes here and starts the bisect_helper recursion function\n",
    "        return bisect_helper(L, e, 0, len(L)-1)\n",
    "\n",
    "# Function Call\n",
    "bisect_search_fast(sorted(some_list), 3)"
   ]
  },
  {
   "cell_type": "markdown",
   "metadata": {},
   "source": [
    "### Checking speed for list comprehension vs. Bisection Search vs. Np.where\n",
    "1. List Comprehension: 708 nanoseconds\n",
    "2. Bisection Search: 1.3-2.1 microseconds\n",
    "3. Np.where: 3.78-3.81 microseconds\n",
    "\n",
    "As we can see, the list comprehension is quickest search implementation above."
   ]
  },
  {
   "cell_type": "code",
   "execution_count": 1,
   "metadata": {},
   "outputs": [
    {
     "name": "stdout",
     "output_type": "stream",
     "text": [
      "Element Found 2 time(s)\n",
      "Element Found 1 time(s)\n"
     ]
    }
   ],
   "source": [
    "# Example Lists\n",
    "some_list = [1,2,5,5,4,3,6,7,8,9,10,20,90,931,32,87,86,85]\n",
    "my_list = ['John Smith', 'Jack Smith', 'First Smith', 'Last Smith']\n",
    "\n",
    "# Generalized List Comprehension for Search\n",
    "def generalized_search(L,e):\n",
    "    \n",
    "    value = len([True for i in L if i == e])\n",
    "    \n",
    "    if value > 0:\n",
    "        return 'Element Found {} time(s)'.format(value)\n",
    "    else:\n",
    "        return 'Element Not Found'\n",
    "\n",
    "print(generalized_search(some_list, 5))\n",
    "print(generalized_search(my_list, 'Jack Smith'))    "
   ]
  },
  {
   "cell_type": "markdown",
   "metadata": {
    "collapsed": true
   },
   "source": [
    "## HourGlass Max Addition, HackerRank\n",
    "Given a 6X6 matrix of values from -9 to 9, find the greatest 3X1X3 hour-glass sum."
   ]
  },
  {
   "cell_type": "code",
   "execution_count": 18,
   "metadata": {
    "collapsed": true
   },
   "outputs": [],
   "source": [
    "def hourglassSum(arr):\n",
    "    \n",
    "    # Flattening the matrix into a list\n",
    "    empty = []\n",
    "    for i in arr:\n",
    "        for j in i:\n",
    "            empty.append(j)\n",
    "            \n",
    "      \n",
    "    # Adding together the hourglass numbers within the list        \n",
    "    max_glass = []\n",
    "    for start in range(22):\n",
    "        add = empty[start]+empty[start+1]+empty[start+2] + empty[start+7] + empty[start+12] + empty[start+13] + empty[start+14]\n",
    "        max_glass.append(add)\n",
    "        \n",
    "    # Deleting the indexes that don't make up an hourglass\n",
    "    indexes = [4, 5, 10, 11, 16, 17]\n",
    "    for index in sorted(indexes, reverse=True):\n",
    "        del max_glass[index]\n",
    "    print(max_glass) # printing hourglass totals \n",
    "    \n",
    "    return max(max_glass) # returning max in hourglass list"
   ]
  },
  {
   "cell_type": "code",
   "execution_count": 19,
   "metadata": {},
   "outputs": [
    {
     "name": "stdout",
     "output_type": "stream",
     "text": [
      "[[-4 -9 -2  2  7  7]\n",
      " [ 1  6 -7 -3 -9  4]\n",
      " [-6  2  6 -4  1  1]\n",
      " [ 4  0  0  7  0 -6]\n",
      " [ 7  7 -4 -4 -7  7]\n",
      " [ 0  6  6 -8  2  1]]\n",
      "[-7, -12, 7, 5, 6, 9, -16, -6, 12, 3, -5, -6, 23, 7, 3, -11]\n"
     ]
    },
    {
     "data": {
      "text/plain": [
       "23"
      ]
     },
     "execution_count": 19,
     "metadata": {},
     "output_type": "execute_result"
    }
   ],
   "source": [
    "import numpy as np\n",
    "\n",
    "# Building a random 6x6 integer matrix for demo purposes\n",
    "arr = np.random.randint(-9, 9, (6,6))\n",
    "print(arr)\n",
    "\n",
    "# Calling Function defined above on random matrix.\n",
    "hourglassSum(arr)"
   ]
  }
 ],
 "metadata": {
  "kernelspec": {
   "display_name": "Python 3",
   "language": "python",
   "name": "python3"
  },
  "language_info": {
   "codemirror_mode": {
    "name": "ipython",
    "version": 3
   },
   "file_extension": ".py",
   "mimetype": "text/x-python",
   "name": "python",
   "nbconvert_exporter": "python",
   "pygments_lexer": "ipython3",
   "version": "3.6.4"
  }
 },
 "nbformat": 4,
 "nbformat_minor": 2
}
