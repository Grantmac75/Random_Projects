{
 "cells": [
  {
   "cell_type": "markdown",
   "metadata": {},
   "source": [
    "# Autocorrelation of Stocks\n",
    "Wanted to see the autocorrelation for the SPX within a few different time frames."
   ]
  },
  {
   "cell_type": "code",
   "execution_count": 48,
   "metadata": {},
   "outputs": [
    {
     "data": {
      "text/html": [
       "<div>\n",
       "<style scoped>\n",
       "    .dataframe tbody tr th:only-of-type {\n",
       "        vertical-align: middle;\n",
       "    }\n",
       "\n",
       "    .dataframe tbody tr th {\n",
       "        vertical-align: top;\n",
       "    }\n",
       "\n",
       "    .dataframe thead th {\n",
       "        text-align: right;\n",
       "    }\n",
       "</style>\n",
       "<table border=\"1\" class=\"dataframe\">\n",
       "  <thead>\n",
       "    <tr style=\"text-align: right;\">\n",
       "      <th></th>\n",
       "      <th>Open</th>\n",
       "      <th>High</th>\n",
       "      <th>Low</th>\n",
       "      <th>Close</th>\n",
       "      <th>Adj Close</th>\n",
       "      <th>Volume</th>\n",
       "    </tr>\n",
       "    <tr>\n",
       "      <th>Date</th>\n",
       "      <th></th>\n",
       "      <th></th>\n",
       "      <th></th>\n",
       "      <th></th>\n",
       "      <th></th>\n",
       "      <th></th>\n",
       "    </tr>\n",
       "  </thead>\n",
       "  <tbody>\n",
       "    <tr>\n",
       "      <th>2018-04-17</th>\n",
       "      <td>2692.739990</td>\n",
       "      <td>2713.340088</td>\n",
       "      <td>2692.050049</td>\n",
       "      <td>2706.389893</td>\n",
       "      <td>2706.389893</td>\n",
       "      <td>3234360000</td>\n",
       "    </tr>\n",
       "    <tr>\n",
       "      <th>2018-04-18</th>\n",
       "      <td>2710.110107</td>\n",
       "      <td>2717.489990</td>\n",
       "      <td>2703.629883</td>\n",
       "      <td>2708.639893</td>\n",
       "      <td>2708.639893</td>\n",
       "      <td>3383410000</td>\n",
       "    </tr>\n",
       "    <tr>\n",
       "      <th>2018-04-19</th>\n",
       "      <td>2701.159912</td>\n",
       "      <td>2702.840088</td>\n",
       "      <td>2681.899902</td>\n",
       "      <td>2693.129883</td>\n",
       "      <td>2693.129883</td>\n",
       "      <td>3349370000</td>\n",
       "    </tr>\n",
       "    <tr>\n",
       "      <th>2018-04-20</th>\n",
       "      <td>2692.560059</td>\n",
       "      <td>2693.939941</td>\n",
       "      <td>2660.610107</td>\n",
       "      <td>2670.139893</td>\n",
       "      <td>2670.139893</td>\n",
       "      <td>3388590000</td>\n",
       "    </tr>\n",
       "    <tr>\n",
       "      <th>2018-04-23</th>\n",
       "      <td>2675.399902</td>\n",
       "      <td>2682.860107</td>\n",
       "      <td>2657.989990</td>\n",
       "      <td>2670.290039</td>\n",
       "      <td>2670.290039</td>\n",
       "      <td>1858105237</td>\n",
       "    </tr>\n",
       "  </tbody>\n",
       "</table>\n",
       "</div>"
      ],
      "text/plain": [
       "                   Open         High          Low        Close    Adj Close  \\\n",
       "Date                                                                          \n",
       "2018-04-17  2692.739990  2713.340088  2692.050049  2706.389893  2706.389893   \n",
       "2018-04-18  2710.110107  2717.489990  2703.629883  2708.639893  2708.639893   \n",
       "2018-04-19  2701.159912  2702.840088  2681.899902  2693.129883  2693.129883   \n",
       "2018-04-20  2692.560059  2693.939941  2660.610107  2670.139893  2670.139893   \n",
       "2018-04-23  2675.399902  2682.860107  2657.989990  2670.290039  2670.290039   \n",
       "\n",
       "                Volume  \n",
       "Date                    \n",
       "2018-04-17  3234360000  \n",
       "2018-04-18  3383410000  \n",
       "2018-04-19  3349370000  \n",
       "2018-04-20  3388590000  \n",
       "2018-04-23  1858105237  "
      ]
     },
     "execution_count": 48,
     "metadata": {},
     "output_type": "execute_result"
    }
   ],
   "source": [
    "import pandas as pd\n",
    "import numpy as np\n",
    "import datetime\n",
    "from pandas_datareader.data import DataReader\n",
    "\n",
    "def read_data(ticker, data_source, start_date, end_date):\n",
    "    \n",
    "    df = DataReader(ticker, data_source, start_date, end_date)\n",
    "    \n",
    "    return df\n",
    "\n",
    "\n",
    "end_date = datetime.datetime.today().strftime('%Y-%m-%d')\n",
    "ticker = '^GSPC'\n",
    "\n",
    "SPX = read_data(ticker, 'yahoo', '2017-01-01', end_date)\n",
    "SPX.tail()"
   ]
  },
  {
   "cell_type": "markdown",
   "metadata": {},
   "source": [
    "### Daily Autocorrelation Function"
   ]
  },
  {
   "cell_type": "code",
   "execution_count": 49,
   "metadata": {},
   "outputs": [
    {
     "name": "stdout",
     "output_type": "stream",
     "text": [
      "Ticker ^GSPC is daily mean reverting with autocorrelation: -0.05759773989839846\n"
     ]
    }
   ],
   "source": [
    "def autocorr_daily(df):\n",
    "    \"\"\"Input: DataFrame of ticker from above\n",
    "        Output: If the ticker is mean reverting or trending daily\"\"\"\n",
    "    \n",
    "    returns = df.pct_change()\n",
    "    autocorrelation = returns['Adj Close'].autocorr()\n",
    "    \n",
    "    if autocorrelation < 0:\n",
    "        print('Ticker {} is daily mean reverting with autocorrelation: {}'.format(ticker, autocorrelation))\n",
    "    else:\n",
    "        print('Ticker {} is momentum bound or trending with autocorrelation: {}'.format(ticker, autocorrelation))\n",
    "    \n",
    "    return\n",
    "\n",
    "autocorrelation = autocorr_daily(SPX)\n",
    "autocorrelation"
   ]
  },
  {
   "cell_type": "markdown",
   "metadata": {},
   "source": [
    "### Weekly Autocorrelation Function"
   ]
  },
  {
   "cell_type": "code",
   "execution_count": 50,
   "metadata": {},
   "outputs": [
    {
     "name": "stdout",
     "output_type": "stream",
     "text": [
      "Ticker ^GSPC is weekly mean reverting with autocorrelation: -0.12853253614401405\n"
     ]
    }
   ],
   "source": [
    "def autocorr_weekly(df):\n",
    "    \"\"\"Input: DataFrame of ticker from above\n",
    "        Output: If the ticker is mean reverting or trending weekly\"\"\"\n",
    "    \n",
    "    ticker_weekly = df.resample(rule='W').last()\n",
    "    returns = ticker_weekly.pct_change()\n",
    "    autocorrelation = returns['Adj Close'].autocorr()\n",
    "    \n",
    "    if autocorrelation < 0:\n",
    "        print('Ticker {} is weekly mean reverting with autocorrelation: {}'.format(ticker, autocorrelation))\n",
    "    else:\n",
    "        print('Ticker {} is momentum bound or trending with autocorrelation: {}'.format(ticker, autocorrelation))\n",
    "    \n",
    "    return\n",
    "\n",
    "autocorrelation_weekly = autocorr_weekly(SPX)\n",
    "autocorrelation_weekly"
   ]
  },
  {
   "cell_type": "markdown",
   "metadata": {},
   "source": [
    "### Logical strategy would be to loop through many tickers, possibly all stocks in S&P 500.\n",
    "If you loop through you could pull out the maximum and minimum autocorrelations which theoretically\n",
    "would be the best to trade since you'd have insight if they mean revert or trend to a higher degree."
   ]
  }
 ],
 "metadata": {
  "kernelspec": {
   "display_name": "Python 3",
   "language": "python",
   "name": "python3"
  },
  "language_info": {
   "codemirror_mode": {
    "name": "ipython",
    "version": 3
   },
   "file_extension": ".py",
   "mimetype": "text/x-python",
   "name": "python",
   "nbconvert_exporter": "python",
   "pygments_lexer": "ipython3",
   "version": "3.6.4"
  }
 },
 "nbformat": 4,
 "nbformat_minor": 2
}
