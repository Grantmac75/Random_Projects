{
 "cells": [
  {
   "cell_type": "markdown",
   "metadata": {},
   "source": [
    "# Optimization/Linear Programming in Python\n",
    "This is the scipy implementation I found on youtube.\n",
    "Another video showed promise using the package 'pulp' when optimizing massive problems\n",
    "and wanting to scrape web data."
   ]
  },
  {
   "cell_type": "code",
   "execution_count": 69,
   "metadata": {},
   "outputs": [],
   "source": [
    "import numpy as np\n",
    "from scipy.optimize import minimize"
   ]
  },
  {
   "cell_type": "code",
   "execution_count": 3,
   "metadata": {
    "collapsed": true
   },
   "outputs": [],
   "source": [
    "def objective(x):\n",
    "    x1, x2, x3, x4 = x[0], x[1], x[2], x[3]\n",
    "    return x1*x4*(x1+x2+x3) + x3\n",
    "\n",
    "# inequality constraint and moved the 25 to the left side\n",
    "def constraint1(x):\n",
    "    return x[0]*x[1]*x[2]*x[3]-25.0\n",
    "\n",
    "# equality constraint\n",
    "def constraint2(x):\n",
    "    sum_sq = 40\n",
    "    for i in range(4):\n",
    "        sum_sq = sum_sq - x[i]**2\n",
    "    \n",
    "    return sum_sq"
   ]
  },
  {
   "cell_type": "code",
   "execution_count": 5,
   "metadata": {},
   "outputs": [
    {
     "data": {
      "text/plain": [
       "16"
      ]
     },
     "execution_count": 5,
     "metadata": {},
     "output_type": "execute_result"
    }
   ],
   "source": [
    "x0 = [1,5,5,1]\n",
    "objective(x0)"
   ]
  },
  {
   "cell_type": "code",
   "execution_count": 12,
   "metadata": {},
   "outputs": [],
   "source": [
    "b = (1.0,5.0)\n",
    "bnds = (b,b,b,b)\n",
    "con1 = {'type': 'ineq', 'fun': constraint1}\n",
    "con2 = {'type': 'eq', 'fun': constraint2}\n",
    "cons = [con1,con2]"
   ]
  },
  {
   "cell_type": "code",
   "execution_count": 13,
   "metadata": {
    "collapsed": true
   },
   "outputs": [],
   "source": [
    "sol = minimize(objective, x0,method='SLSQP', bounds=bnds, constraints=cons)"
   ]
  },
  {
   "cell_type": "code",
   "execution_count": 17,
   "metadata": {},
   "outputs": [
    {
     "data": {
      "text/plain": [
       "     fun: 17.01401724563517\n",
       "     jac: array([14.57227015,  1.37940764,  2.37940764,  9.56415057])\n",
       " message: 'Optimization terminated successfully.'\n",
       "    nfev: 30\n",
       "     nit: 5\n",
       "    njev: 5\n",
       "  status: 0\n",
       " success: True\n",
       "       x: array([1.        , 4.7429961 , 3.82115462, 1.37940765])"
      ]
     },
     "execution_count": 17,
     "metadata": {},
     "output_type": "execute_result"
    }
   ],
   "source": [
    "sol # Entire Printout of minimization package"
   ]
  },
  {
   "cell_type": "code",
   "execution_count": 16,
   "metadata": {},
   "outputs": [
    {
     "data": {
      "text/plain": [
       "array([1.        , 4.7429961 , 3.82115462, 1.37940765])"
      ]
     },
     "execution_count": 16,
     "metadata": {},
     "output_type": "execute_result"
    }
   ],
   "source": [
    "sol.x # Solution Values"
   ]
  },
  {
   "cell_type": "markdown",
   "metadata": {},
   "source": [
    "# New Problem\n",
    "Defined this problem myself for practice."
   ]
  },
  {
   "cell_type": "markdown",
   "metadata": {},
   "source": [
    "maximize 3x1 + 2x2\n",
    "\n",
    "s.t.     \n",
    "\n",
    "x1 + x2 = 5\n",
    "\n",
    "x1 >= 0\n",
    "         \n",
    "x2 > 2"
   ]
  },
  {
   "cell_type": "markdown",
   "metadata": {},
   "source": [
    "###  Very Important Note\n",
    "    This is a maximization problem and scipy only has a minimization function\n",
    "    thus you have to flip the objective function by multiplying by -1.0 in order\n",
    "    to minimize the negative objective function which acts the same as maximizing the\n",
    "    original problem.\n",
    "    Additionally your final function value won't make much intuitive sense, but your\n",
    "    constraints will be optimized."
   ]
  },
  {
   "cell_type": "code",
   "execution_count": 74,
   "metadata": {
    "collapsed": true
   },
   "outputs": [],
   "source": [
    "def objective_(x, sign = -1.0): # x is an array (vector)\n",
    "    x1 = x[0]\n",
    "    x2 = x[1]\n",
    "    return sign * 3*x1 + 2*x2\n",
    "\n",
    "def constraint_1(x):\n",
    "    total_sum = 5\n",
    "    for i in range(len(x)):\n",
    "        total_sum = total_sum - x[i]\n",
    "    return total_sum"
   ]
  },
  {
   "cell_type": "code",
   "execution_count": 75,
   "metadata": {},
   "outputs": [
    {
     "data": {
      "text/plain": [
       "5.0"
      ]
     },
     "execution_count": 75,
     "metadata": {},
     "output_type": "execute_result"
    }
   ],
   "source": [
    "# Specify initial guess for objective function\n",
    "x0 = [1,4]\n",
    "objective_(x0)"
   ]
  },
  {
   "cell_type": "code",
   "execution_count": 76,
   "metadata": {
    "collapsed": true
   },
   "outputs": [],
   "source": [
    "bounds_1 = (0.0,100.0)\n",
    "bounds_2 = (2.0,100.0)\n",
    "total_bounds = (bounds_1,bounds_2)\n",
    "con_1 = {'type': 'eq', 'fun': constraint_1}\n",
    "cons_ = [con_1]"
   ]
  },
  {
   "cell_type": "code",
   "execution_count": 77,
   "metadata": {},
   "outputs": [
    {
     "data": {
      "text/plain": [
       "     fun: -5.0\n",
       "     jac: array([-3.,  2.])\n",
       " message: 'Optimization terminated successfully.'\n",
       "    nfev: 8\n",
       "     nit: 2\n",
       "    njev: 2\n",
       "  status: 0\n",
       " success: True\n",
       "       x: array([3., 2.])"
      ]
     },
     "execution_count": 77,
     "metadata": {},
     "output_type": "execute_result"
    }
   ],
   "source": [
    "sol = minimize(objective_, x0 , method='SLSQP', bounds=total_bounds, constraints=cons_)\n",
    "sol"
   ]
  },
  {
   "cell_type": "markdown",
   "metadata": {},
   "source": [
    "### Notice the answer x1 = 3 and x2 = 2 is correct.\n",
    "You can get the maximum value by plugging these back into the objective function."
   ]
  },
  {
   "cell_type": "code",
   "execution_count": 78,
   "metadata": {},
   "outputs": [
    {
     "data": {
      "text/plain": [
       "13.0"
      ]
     },
     "execution_count": 78,
     "metadata": {},
     "output_type": "execute_result"
    }
   ],
   "source": [
    "# sol.x gives just the x optimal array and then flip the sign to + 1.0.\n",
    "objective_(sol.x, sign=1.0)"
   ]
  },
  {
   "cell_type": "code",
   "execution_count": null,
   "metadata": {
    "collapsed": true
   },
   "outputs": [],
   "source": []
  }
 ],
 "metadata": {
  "kernelspec": {
   "display_name": "Python 3",
   "language": "python",
   "name": "python3"
  },
  "language_info": {
   "codemirror_mode": {
    "name": "ipython",
    "version": 3
   },
   "file_extension": ".py",
   "mimetype": "text/x-python",
   "name": "python",
   "nbconvert_exporter": "python",
   "pygments_lexer": "ipython3",
   "version": "3.6.4"
  }
 },
 "nbformat": 4,
 "nbformat_minor": 2
}
