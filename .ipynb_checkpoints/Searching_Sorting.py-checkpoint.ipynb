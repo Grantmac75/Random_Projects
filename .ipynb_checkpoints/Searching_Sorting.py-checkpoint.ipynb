{
 "cells": [
  {
   "cell_type": "markdown",
   "metadata": {},
   "source": [
    "# Searching and Sorting\n",
    "MITx 6.00.1x Edx.org class\n",
    "\n",
    "1. Linear Search\n",
    "2. Bisection Search"
   ]
  },
  {
   "cell_type": "code",
   "execution_count": 1,
   "metadata": {
    "collapsed": true
   },
   "outputs": [],
   "source": [
    "# Example List\n",
    "my_list = ['John Smith', 'Jack Smith', 'First Smith', 'Last Smith']"
   ]
  },
  {
   "cell_type": "markdown",
   "metadata": {},
   "source": [
    "###  Linear Search, Unsorted List"
   ]
  },
  {
   "cell_type": "code",
   "execution_count": 2,
   "metadata": {},
   "outputs": [
    {
     "data": {
      "text/plain": [
       "True"
      ]
     },
     "execution_count": 2,
     "metadata": {},
     "output_type": "execute_result"
    }
   ],
   "source": [
    "# Linear Search, unsorted list.\n",
    "\n",
    "def linear_search(the_list, element):\n",
    "    found = False\n",
    "    for i in range(len(the_list)):\n",
    "        if element == the_list[i]:\n",
    "            found = True\n",
    "    return found\n",
    "\n",
    "linear_search(my_list, 'Jack Smith')\n",
    "\n",
    "\n",
    "# Linear Search, unsorted, version 2.\n",
    "\n",
    "def linear_sorted(the_list, element):\n",
    "    found = False\n",
    "    for i in the_list:\n",
    "        if i == element:\n",
    "            found = True\n",
    "    return found\n",
    "\n",
    "linear_sorted(my_list, 'Jack Smith')\n",
    "\n",
    "# Worst Case Complexity is O(n)."
   ]
  },
  {
   "cell_type": "markdown",
   "metadata": {},
   "source": [
    "###  Linear Search, Sorted List"
   ]
  },
  {
   "cell_type": "code",
   "execution_count": 7,
   "metadata": {},
   "outputs": [
    {
     "name": "stdout",
     "output_type": "stream",
     "text": [
      "['First Smith', 'Jack Smith', 'John Smith', 'Last Smith']\n"
     ]
    },
    {
     "data": {
      "text/plain": [
       "True"
      ]
     },
     "execution_count": 7,
     "metadata": {},
     "output_type": "execute_result"
    }
   ],
   "source": [
    "# Linear Search, sorted list.\n",
    "\n",
    "def linear_sorted(the_list, element):\n",
    "    \n",
    "    the_list = sorted(the_list)\n",
    "    print(the_list)\n",
    "    \n",
    "    for i in range(len(the_list)):\n",
    "        if the_list[i] == element:\n",
    "            return True\n",
    "        elif the_list[i] > element:\n",
    "            return False\n",
    "        \n",
    "    return False\n",
    "\n",
    "linear_sorted(my_list, 'Jack Smith')\n",
    "\n",
    "# Worst Case Complexity is still O(n), but running time wise this is faster because you are\n",
    "# taking advantage of the fact that you have a sorted list."
   ]
  },
  {
   "cell_type": "markdown",
   "metadata": {},
   "source": [
    "### Bisection Search, recursion.\n",
    "Remember for bisection search to be effective the list needs to be sorted first."
   ]
  },
  {
   "cell_type": "code",
   "execution_count": 13,
   "metadata": {},
   "outputs": [
    {
     "name": "stdout",
     "output_type": "stream",
     "text": [
      "9\n",
      "4\n",
      "2\n",
      "1\n"
     ]
    },
    {
     "data": {
      "text/plain": [
       "True"
      ]
     },
     "execution_count": 13,
     "metadata": {},
     "output_type": "execute_result"
    }
   ],
   "source": [
    "# Bisection Search, recursion with list copy.\n",
    "\n",
    "def bisect_search(L, e):\n",
    "    \n",
    "    L = sorted(L)\n",
    "    \n",
    "    if L == []:\n",
    "        return False\n",
    "    elif len(L) == 1:\n",
    "        return L[0] == e\n",
    "    else:\n",
    "        half = len(L)//2\n",
    "        print(half)\n",
    "        \n",
    "        if L[half] > e:\n",
    "            return bisect_search(L[:half], e)\n",
    "        else:\n",
    "            return bisect_search(L[half:], e)\n",
    "        \n",
    "some_list = [1,2,5,5,4,3,6,7,8,9,10,20,90,931,32,87,86,85]\n",
    "\n",
    "bisect_search(some_list, 3)\n",
    "\n",
    "# Complexity is nlog(n) because you are copying the list every time for every recursion necessary.\n",
    "# You can see the recursion for halving the bisection search with the print out of half in each recursive call."
   ]
  },
  {
   "cell_type": "markdown",
   "metadata": {},
   "source": [
    "### Bisection Search, Recursion Pointer.\n",
    "This methodology is better because rather than making a copy of the list like the recursion above, it causes the program to essentially \"point\" to the indexes which represent half, rather than any copying."
   ]
  },
  {
   "cell_type": "code",
   "execution_count": 17,
   "metadata": {},
   "outputs": [
    {
     "name": "stdout",
     "output_type": "stream",
     "text": [
      "8\n",
      "3\n",
      "1\n"
     ]
    },
    {
     "data": {
      "text/plain": [
       "False"
      ]
     },
     "execution_count": 17,
     "metadata": {},
     "output_type": "execute_result"
    }
   ],
   "source": [
    "# Bisection Search, Recursion pointer to halfway, no list copying.\n",
    "\n",
    "def bisect_search_fast(L, e):\n",
    "    \n",
    "    def bisect_helper(L, e, low, high):   # 3) Program loops through this as long as is needed with recursive calls\n",
    "        \n",
    "        if low == high:\n",
    "            return L[low] == e\n",
    "        \n",
    "        mid = (high + low)//2\n",
    "        print(mid)\n",
    "        \n",
    "        if L[mid] == e:\n",
    "            return True\n",
    "        \n",
    "        elif L[mid] > e:\n",
    "            if mid == low:\n",
    "                return False\n",
    "            \n",
    "            else:\n",
    "                return bisect_helper(L, e, low, mid-1)\n",
    "            \n",
    "        else:\n",
    "            return bisect_helper(L, e, mid+1, high)\n",
    "    \n",
    "    if len(L) == 0:   # 1) Program really starts here to check for initial case\n",
    "        return False\n",
    "    \n",
    "    else:             # 2) Normal length list goes here and starts the bisect_helper recursion function\n",
    "        return bisect_helper(L, e, 0, len(L)-1)\n",
    "\n",
    "# Test List\n",
    "some_list = [1,2,5,5,4,3,6,7,8,9,10,20,90,931,32,87,86,85]\n",
    "\n",
    "# Function Call\n",
    "bisect_search_fast(some_list, 3)\n",
    "\n",
    "# Complexity is only log(n) in this case because it doesn't require us to make a copied list each time.\n",
    "# The printed out midpoint makes less intuitive sense because it's just the program pointing to the indexes of the\n",
    "# original list, no slicing down to a copied smaller list like above."
   ]
  },
  {
   "cell_type": "markdown",
   "metadata": {},
   "source": [
    "### Important Notes for Algorithms above:\n",
    "1) In the Bisection Search algos I personally sorted the lists before running the recursive steps. Now that sorting actually has it's own cost, which is not efficient if I only plan to look for a single element one time.\n",
    "2) If I plan to search for multiple elements over multiple occurances then the initial sorting becomes less important witht the complexity because now the pro's of being O(log(n)) with a sorted list outweight being a strict linear search of O(n).\n",
    "3) Long story short. Since you'll almost always want to search multiple times over a list, the initial sort is worth having in order to implement an efficient bisection search rather than pure linear search."
   ]
  },
  {
   "cell_type": "code",
   "execution_count": null,
   "metadata": {
    "collapsed": true
   },
   "outputs": [],
   "source": []
  }
 ],
 "metadata": {
  "kernelspec": {
   "display_name": "Python 3",
   "language": "python",
   "name": "python3"
  },
  "language_info": {
   "codemirror_mode": {
    "name": "ipython",
    "version": 3
   },
   "file_extension": ".py",
   "mimetype": "text/x-python",
   "name": "python",
   "nbconvert_exporter": "python",
   "pygments_lexer": "ipython3",
   "version": "3.6.4"
  }
 },
 "nbformat": 4,
 "nbformat_minor": 2
}
