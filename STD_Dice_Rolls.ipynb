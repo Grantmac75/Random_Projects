{
 "cells": [
  {
   "cell_type": "markdown",
   "metadata": {},
   "source": [
    "# Dice Roll(s)\n",
    "Calculate the Standard Deviation of n dice rolls."
   ]
  },
  {
   "cell_type": "code",
   "execution_count": 1,
   "metadata": {
    "collapsed": true
   },
   "outputs": [],
   "source": [
    "import numpy as np"
   ]
  },
  {
   "cell_type": "code",
   "execution_count": 36,
   "metadata": {},
   "outputs": [],
   "source": [
    "def std_for_dice(number_of_dice_rolls):\n",
    "    \n",
    "    x = 0\n",
    "    ints_from_rolls = []\n",
    "    \n",
    "    \n",
    "    while x < number_of_dice_rolls:\n",
    "        \n",
    "        k = np.random.randint(1,7)\n",
    "        ints_from_rolls.append(k)\n",
    "        x+=1\n",
    "        \n",
    "    std_of_all_rolls = np.std(ints_from_rolls)\n",
    "\n",
    "    return print('List: {}, Std of Rolls: {}'.format(ints_from_rolls, std_of_all_rolls))"
   ]
  },
  {
   "cell_type": "code",
   "execution_count": 38,
   "metadata": {},
   "outputs": [
    {
     "name": "stdout",
     "output_type": "stream",
     "text": [
      "List: [6, 6, 6, 1, 3], Std of Rolls: 2.0591260281974\n"
     ]
    }
   ],
   "source": [
    "std_for_dice(number_of_dice_rolls=5)"
   ]
  }
 ],
 "metadata": {
  "kernelspec": {
   "display_name": "Python 3",
   "language": "python",
   "name": "python3"
  },
  "language_info": {
   "codemirror_mode": {
    "name": "ipython",
    "version": 3
   },
   "file_extension": ".py",
   "mimetype": "text/x-python",
   "name": "python",
   "nbconvert_exporter": "python",
   "pygments_lexer": "ipython3",
   "version": "3.6.4"
  }
 },
 "nbformat": 4,
 "nbformat_minor": 2
}
